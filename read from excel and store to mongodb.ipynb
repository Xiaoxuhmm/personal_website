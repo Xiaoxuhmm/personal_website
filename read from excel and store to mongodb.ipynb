{
 "cells": [
  {
   "cell_type": "code",
   "execution_count": 35,
   "metadata": {
    "collapsed": true
   },
   "outputs": [],
   "source": [
    "import xlrd\n",
    "import os\n",
    "import pandas as pd"
   ]
  },
  {
   "cell_type": "code",
   "execution_count": null,
   "metadata": {
    "collapsed": true
   },
   "outputs": [],
   "source": []
  },
  {
   "cell_type": "code",
   "execution_count": 11,
   "metadata": {
    "collapsed": false
   },
   "outputs": [],
   "source": [
    "book = xlrd.open_workbook(\"test.xlsx\")"
   ]
  },
  {
   "cell_type": "code",
   "execution_count": 23,
   "metadata": {
    "collapsed": false
   },
   "outputs": [],
   "source": [
    "Man = book.sheet_by_index(1)"
   ]
  },
  {
   "cell_type": "code",
   "execution_count": 36,
   "metadata": {
    "collapsed": false
   },
   "outputs": [],
   "source": [
    "# Man.row_values(0)"
   ]
  },
  {
   "cell_type": "code",
   "execution_count": 37,
   "metadata": {
    "collapsed": false
   },
   "outputs": [],
   "source": [
    "# Man.col_values(0)"
   ]
  },
  {
   "cell_type": "code",
   "execution_count": 38,
   "metadata": {
    "collapsed": false
   },
   "outputs": [],
   "source": [
    "# print(Man.row_slice(rowx=10, start_colx=0, end_colx=14))"
   ]
  },
  {
   "cell_type": "code",
   "execution_count": 45,
   "metadata": {
    "collapsed": true
   },
   "outputs": [],
   "source": [
    "df = pd.read_excel(\"test.xlsx\", sheet_name=1)"
   ]
  },
  {
   "cell_type": "code",
   "execution_count": 48,
   "metadata": {
    "collapsed": false
   },
   "outputs": [
    {
     "data": {
      "text/html": [
       "<div>\n",
       "<style scoped>\n",
       "    .dataframe tbody tr th:only-of-type {\n",
       "        vertical-align: middle;\n",
       "    }\n",
       "\n",
       "    .dataframe tbody tr th {\n",
       "        vertical-align: top;\n",
       "    }\n",
       "\n",
       "    .dataframe thead th {\n",
       "        text-align: right;\n",
       "    }\n",
       "</style>\n",
       "<table border=\"1\" class=\"dataframe\">\n",
       "  <thead>\n",
       "    <tr style=\"text-align: right;\">\n",
       "      <th></th>\n",
       "      <th>Boutique Name</th>\n",
       "      <th>Neighborhood (Based on City)</th>\n",
       "      <th>Address</th>\n",
       "      <th>street</th>\n",
       "      <th>city</th>\n",
       "      <th>state</th>\n",
       "      <th>zipcode</th>\n",
       "      <th>latitude</th>\n",
       "      <th>longitude</th>\n",
       "      <th>Website</th>\n",
       "      <th>Email</th>\n",
       "      <th>Phone #</th>\n",
       "      <th>Emailed</th>\n",
       "      <th>Called</th>\n",
       "    </tr>\n",
       "  </thead>\n",
       "  <tbody>\n",
       "    <tr>\n",
       "      <th>0</th>\n",
       "      <td>Janie and Jack</td>\n",
       "      <td>NaN</td>\n",
       "      <td>1150 3rd Ave, New York, NY 10065</td>\n",
       "      <td>1150 3rd Ave</td>\n",
       "      <td>New York</td>\n",
       "      <td>NY</td>\n",
       "      <td>10065</td>\n",
       "      <td>40.766846</td>\n",
       "      <td>-73.963101</td>\n",
       "      <td>www.janieandjack.com</td>\n",
       "      <td>NaN</td>\n",
       "      <td>NaN</td>\n",
       "      <td>NaN</td>\n",
       "      <td>NaN</td>\n",
       "    </tr>\n",
       "    <tr>\n",
       "      <th>1</th>\n",
       "      <td>House of Angels New York Inc</td>\n",
       "      <td>NaN</td>\n",
       "      <td>307 W 125th St, New York, NY 10027</td>\n",
       "      <td>307 W 125th St</td>\n",
       "      <td>New York</td>\n",
       "      <td>NY</td>\n",
       "      <td>10027</td>\n",
       "      <td>40.810792</td>\n",
       "      <td>-73.951507</td>\n",
       "      <td>NaN</td>\n",
       "      <td>angelsnyus@aol.com</td>\n",
       "      <td>212-222-7330</td>\n",
       "      <td>NaN</td>\n",
       "      <td>COB (Left Info for Upper management callback) ...</td>\n",
       "    </tr>\n",
       "  </tbody>\n",
       "</table>\n",
       "</div>"
      ],
      "text/plain": [
       "                  Boutique Name  Neighborhood (Based on City)  \\\n",
       "0                Janie and Jack                           NaN   \n",
       "1  House of Angels New York Inc                           NaN   \n",
       "\n",
       "                              Address          street      city state  \\\n",
       "0    1150 3rd Ave, New York, NY 10065    1150 3rd Ave  New York   NY    \n",
       "1  307 W 125th St, New York, NY 10027  307 W 125th St  New York   NY    \n",
       "\n",
       "   zipcode   latitude  longitude               Website               Email  \\\n",
       "0    10065  40.766846 -73.963101  www.janieandjack.com                 NaN   \n",
       "1    10027  40.810792 -73.951507                   NaN  angelsnyus@aol.com   \n",
       "\n",
       "        Phone # Emailed                                             Called  \n",
       "0           NaN     NaN                                                NaN  \n",
       "1  212-222-7330     NaN  COB (Left Info for Upper management callback) ...  "
      ]
     },
     "execution_count": 48,
     "metadata": {},
     "output_type": "execute_result"
    }
   ],
   "source": [
    "df.head(2)"
   ]
  },
  {
   "cell_type": "code",
   "execution_count": 49,
   "metadata": {
    "collapsed": true
   },
   "outputs": [],
   "source": [
    "test = df[['Boutique Name','Address','city','zipcode', 'latitude', 'longitude']]"
   ]
  },
  {
   "cell_type": "code",
   "execution_count": 50,
   "metadata": {
    "collapsed": false
   },
   "outputs": [
    {
     "data": {
      "text/html": [
       "<div>\n",
       "<style scoped>\n",
       "    .dataframe tbody tr th:only-of-type {\n",
       "        vertical-align: middle;\n",
       "    }\n",
       "\n",
       "    .dataframe tbody tr th {\n",
       "        vertical-align: top;\n",
       "    }\n",
       "\n",
       "    .dataframe thead th {\n",
       "        text-align: right;\n",
       "    }\n",
       "</style>\n",
       "<table border=\"1\" class=\"dataframe\">\n",
       "  <thead>\n",
       "    <tr style=\"text-align: right;\">\n",
       "      <th></th>\n",
       "      <th>Boutique Name</th>\n",
       "      <th>Address</th>\n",
       "      <th>city</th>\n",
       "      <th>zipcode</th>\n",
       "      <th>latitude</th>\n",
       "      <th>longitude</th>\n",
       "    </tr>\n",
       "  </thead>\n",
       "  <tbody>\n",
       "    <tr>\n",
       "      <th>0</th>\n",
       "      <td>Janie and Jack</td>\n",
       "      <td>1150 3rd Ave, New York, NY 10065</td>\n",
       "      <td>New York</td>\n",
       "      <td>10065</td>\n",
       "      <td>40.766846</td>\n",
       "      <td>-73.963101</td>\n",
       "    </tr>\n",
       "    <tr>\n",
       "      <th>1</th>\n",
       "      <td>House of Angels New York Inc</td>\n",
       "      <td>307 W 125th St, New York, NY 10027</td>\n",
       "      <td>New York</td>\n",
       "      <td>10027</td>\n",
       "      <td>40.810792</td>\n",
       "      <td>-73.951507</td>\n",
       "    </tr>\n",
       "  </tbody>\n",
       "</table>\n",
       "</div>"
      ],
      "text/plain": [
       "                  Boutique Name                             Address      city  \\\n",
       "0                Janie and Jack    1150 3rd Ave, New York, NY 10065  New York   \n",
       "1  House of Angels New York Inc  307 W 125th St, New York, NY 10027  New York   \n",
       "\n",
       "   zipcode   latitude  longitude  \n",
       "0    10065  40.766846 -73.963101  \n",
       "1    10027  40.810792 -73.951507  "
      ]
     },
     "execution_count": 50,
     "metadata": {},
     "output_type": "execute_result"
    }
   ],
   "source": [
    "test.head(2)"
   ]
  },
  {
   "cell_type": "code",
   "execution_count": 51,
   "metadata": {
    "collapsed": true
   },
   "outputs": [],
   "source": [
    "import numpy as np\n",
    "dataset = np.array(test)"
   ]
  },
  {
   "cell_type": "code",
   "execution_count": 52,
   "metadata": {
    "collapsed": false
   },
   "outputs": [
    {
     "data": {
      "text/plain": [
       "array([['Janie and Jack', '1150 3rd Ave, New York, NY 10065', 'New York',\n",
       "        10065, 40.7668462, -73.96310129999999],\n",
       "       ['House of Angels New York Inc',\n",
       "        '307 W 125th St, New York, NY 10027', 'New York', 10027,\n",
       "        40.8107922, -73.9515074]], dtype=object)"
      ]
     },
     "execution_count": 52,
     "metadata": {},
     "output_type": "execute_result"
    }
   ],
   "source": [
    "dataset[:2]"
   ]
  },
  {
   "cell_type": "code",
   "execution_count": 53,
   "metadata": {
    "collapsed": true
   },
   "outputs": [],
   "source": [
    "from pymongo import MongoClient"
   ]
  },
  {
   "cell_type": "code",
   "execution_count": 55,
   "metadata": {
    "collapsed": false
   },
   "outputs": [
    {
     "data": {
      "text/plain": [
       "{'address': '307 W 125th St, New York, NY 10027',\n",
       " 'city': 'New York',\n",
       " 'location': {'lat': 40.8107922, 'lng': -73.9515074},\n",
       " 'name': 'House of Angels New York Inc',\n",
       " 'zipcode': 10027}"
      ]
     },
     "execution_count": 55,
     "metadata": {},
     "output_type": "execute_result"
    }
   ],
   "source": [
    "i = 1\n",
    "data = {\n",
    "    'name': dataset[i, 0],\n",
    "    'address' : dataset[i, 1],\n",
    "    'city': dataset[i, 2],\n",
    "    'zipcode' : dataset[i, 3],\n",
    "    'location': {'lat':dataset[i, 4], 'lng':dataset[i, 5]}\n",
    "}\n",
    "data"
   ]
  },
  {
   "cell_type": "code",
   "execution_count": 59,
   "metadata": {
    "collapsed": false
   },
   "outputs": [
    {
     "data": {
      "text/plain": [
       "float"
      ]
     },
     "execution_count": 59,
     "metadata": {},
     "output_type": "execute_result"
    }
   ],
   "source": [
    "type(dataset[i, 4])"
   ]
  },
  {
   "cell_type": "code",
   "execution_count": 57,
   "metadata": {
    "collapsed": false
   },
   "outputs": [],
   "source": [
    "client = MongoClient(port = 27017)\n",
    "db = client.boutiques\n",
    "for i in range(len(dataset)):\n",
    "    data = {\n",
    "        'name': dataset[i, 0],\n",
    "        'address' : dataset[i, 1],\n",
    "        'city': dataset[i, 2],\n",
    "        'zipcode' : dataset[i, 3],\n",
    "        'location': {'lat':dataset[i, 4], 'lng':dataset[i, 5]}\n",
    "    }\n",
    "    result = db.new_york.insert_one(data)"
   ]
  },
  {
   "cell_type": "code",
   "execution_count": null,
   "metadata": {
    "collapsed": true
   },
   "outputs": [],
   "source": []
  }
 ],
 "metadata": {
  "anaconda-cloud": {},
  "kernelspec": {
   "display_name": "Python [conda root]",
   "language": "python",
   "name": "conda-root-py"
  },
  "language_info": {
   "codemirror_mode": {
    "name": "ipython",
    "version": 3
   },
   "file_extension": ".py",
   "mimetype": "text/x-python",
   "name": "python",
   "nbconvert_exporter": "python",
   "pygments_lexer": "ipython3",
   "version": "3.5.2"
  }
 },
 "nbformat": 4,
 "nbformat_minor": 1
}
